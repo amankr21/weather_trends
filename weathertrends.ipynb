{
  "nbformat": 4,
  "nbformat_minor": 0,
  "metadata": {
    "colab": {
      "name": "weathertrends.ipynb",
      "provenance": [],
      "toc_visible": true
    },
    "kernelspec": {
      "name": "python3",
      "display_name": "Python 3"
    }
  },
  "cells": [
    {
      "cell_type": "code",
      "metadata": {
        "id": "2Qq01yDTUSQ6",
        "colab_type": "code",
        "colab": {}
      },
      "source": [
        "import matplotlib.pyplot as plt\n",
        "import pandas as pd\n",
        "import numpy as np\n",
        "import math"
      ],
      "execution_count": 0,
      "outputs": []
    },
    {
      "cell_type": "code",
      "metadata": {
        "id": "HdlWHBg3UkFP",
        "colab_type": "code",
        "colab": {}
      },
      "source": [
        "df1 = pd.read_csv(\"results (1).csv\")\n",
        "df2 = pd.read_csv(\"results (2).csv\")"
      ],
      "execution_count": 0,
      "outputs": []
    },
    {
      "cell_type": "code",
      "metadata": {
        "id": "2Qx9QuUxVVzz",
        "colab_type": "code",
        "outputId": "01b019fc-bab3-4ac4-975e-2b11f32feb71",
        "colab": {
          "base_uri": "https://localhost:8080/",
          "height": 50
        }
      },
      "source": [
        "print(df1.shape)\n",
        "print(df2.shape)"
      ],
      "execution_count": 0,
      "outputs": [
        {
          "output_type": "stream",
          "text": [
            "(70792, 4)\n",
            "(266, 2)\n"
          ],
          "name": "stdout"
        }
      ]
    },
    {
      "cell_type": "code",
      "metadata": {
        "id": "f0nChNbFUyBJ",
        "colab_type": "code",
        "outputId": "8fbfecb8-5ed5-47dd-8534-2ee167eb7a88",
        "colab": {
          "base_uri": "https://localhost:8080/",
          "height": 195
        }
      },
      "source": [
        "df1.head()"
      ],
      "execution_count": 0,
      "outputs": [
        {
          "output_type": "execute_result",
          "data": {
            "text/html": [
              "<div>\n",
              "<style scoped>\n",
              "    .dataframe tbody tr th:only-of-type {\n",
              "        vertical-align: middle;\n",
              "    }\n",
              "\n",
              "    .dataframe tbody tr th {\n",
              "        vertical-align: top;\n",
              "    }\n",
              "\n",
              "    .dataframe thead th {\n",
              "        text-align: right;\n",
              "    }\n",
              "</style>\n",
              "<table border=\"1\" class=\"dataframe\">\n",
              "  <thead>\n",
              "    <tr style=\"text-align: right;\">\n",
              "      <th></th>\n",
              "      <th>year</th>\n",
              "      <th>city</th>\n",
              "      <th>country</th>\n",
              "      <th>avg_temp</th>\n",
              "    </tr>\n",
              "  </thead>\n",
              "  <tbody>\n",
              "    <tr>\n",
              "      <th>0</th>\n",
              "      <td>1849</td>\n",
              "      <td>Abidjan</td>\n",
              "      <td>Côte D'Ivoire</td>\n",
              "      <td>25.58</td>\n",
              "    </tr>\n",
              "    <tr>\n",
              "      <th>1</th>\n",
              "      <td>1850</td>\n",
              "      <td>Abidjan</td>\n",
              "      <td>Côte D'Ivoire</td>\n",
              "      <td>25.52</td>\n",
              "    </tr>\n",
              "    <tr>\n",
              "      <th>2</th>\n",
              "      <td>1851</td>\n",
              "      <td>Abidjan</td>\n",
              "      <td>Côte D'Ivoire</td>\n",
              "      <td>25.67</td>\n",
              "    </tr>\n",
              "    <tr>\n",
              "      <th>3</th>\n",
              "      <td>1852</td>\n",
              "      <td>Abidjan</td>\n",
              "      <td>Côte D'Ivoire</td>\n",
              "      <td>NaN</td>\n",
              "    </tr>\n",
              "    <tr>\n",
              "      <th>4</th>\n",
              "      <td>1853</td>\n",
              "      <td>Abidjan</td>\n",
              "      <td>Côte D'Ivoire</td>\n",
              "      <td>NaN</td>\n",
              "    </tr>\n",
              "  </tbody>\n",
              "</table>\n",
              "</div>"
            ],
            "text/plain": [
              "   year     city        country  avg_temp\n",
              "0  1849  Abidjan  Côte D'Ivoire     25.58\n",
              "1  1850  Abidjan  Côte D'Ivoire     25.52\n",
              "2  1851  Abidjan  Côte D'Ivoire     25.67\n",
              "3  1852  Abidjan  Côte D'Ivoire       NaN\n",
              "4  1853  Abidjan  Côte D'Ivoire       NaN"
            ]
          },
          "metadata": {
            "tags": []
          },
          "execution_count": 214
        }
      ]
    },
    {
      "cell_type": "code",
      "metadata": {
        "id": "HSkOpXrYU8Oo",
        "colab_type": "code",
        "outputId": "0ce42a3e-abe5-4846-9243-6346024f63fa",
        "colab": {
          "base_uri": "https://localhost:8080/",
          "height": 195
        }
      },
      "source": [
        "df2.head()"
      ],
      "execution_count": 0,
      "outputs": [
        {
          "output_type": "execute_result",
          "data": {
            "text/html": [
              "<div>\n",
              "<style scoped>\n",
              "    .dataframe tbody tr th:only-of-type {\n",
              "        vertical-align: middle;\n",
              "    }\n",
              "\n",
              "    .dataframe tbody tr th {\n",
              "        vertical-align: top;\n",
              "    }\n",
              "\n",
              "    .dataframe thead th {\n",
              "        text-align: right;\n",
              "    }\n",
              "</style>\n",
              "<table border=\"1\" class=\"dataframe\">\n",
              "  <thead>\n",
              "    <tr style=\"text-align: right;\">\n",
              "      <th></th>\n",
              "      <th>year</th>\n",
              "      <th>avg_temp</th>\n",
              "    </tr>\n",
              "  </thead>\n",
              "  <tbody>\n",
              "    <tr>\n",
              "      <th>0</th>\n",
              "      <td>1750</td>\n",
              "      <td>8.72</td>\n",
              "    </tr>\n",
              "    <tr>\n",
              "      <th>1</th>\n",
              "      <td>1751</td>\n",
              "      <td>7.98</td>\n",
              "    </tr>\n",
              "    <tr>\n",
              "      <th>2</th>\n",
              "      <td>1752</td>\n",
              "      <td>5.78</td>\n",
              "    </tr>\n",
              "    <tr>\n",
              "      <th>3</th>\n",
              "      <td>1753</td>\n",
              "      <td>8.39</td>\n",
              "    </tr>\n",
              "    <tr>\n",
              "      <th>4</th>\n",
              "      <td>1754</td>\n",
              "      <td>8.47</td>\n",
              "    </tr>\n",
              "  </tbody>\n",
              "</table>\n",
              "</div>"
            ],
            "text/plain": [
              "   year  avg_temp\n",
              "0  1750      8.72\n",
              "1  1751      7.98\n",
              "2  1752      5.78\n",
              "3  1753      8.39\n",
              "4  1754      8.47"
            ]
          },
          "metadata": {
            "tags": []
          },
          "execution_count": 215
        }
      ]
    },
    {
      "cell_type": "code",
      "metadata": {
        "id": "z4nHotVmVtIg",
        "colab_type": "code",
        "colab": {}
      },
      "source": [
        "df11 = df1[df1['country'] == 'India']\n",
        "df11 = df11[df11['city'] == 'Ahmadabad']"
      ],
      "execution_count": 0,
      "outputs": []
    },
    {
      "cell_type": "code",
      "metadata": {
        "id": "lbcd_WAoaPS_",
        "colab_type": "code",
        "outputId": "e33ccd2e-33f2-47ac-9b6b-4100e5bb0c03",
        "colab": {
          "base_uri": "https://localhost:8080/",
          "height": 50
        }
      },
      "source": [
        "median_value = df11['avg_temp'].median()\n",
        "print(median_value)\n",
        "mean_value = round(df11['avg_temp'].mean(),3)\n",
        "print(mean_value)"
      ],
      "execution_count": 0,
      "outputs": [
        {
          "output_type": "stream",
          "text": [
            "26.535\n",
            "26.531\n"
          ],
          "name": "stdout"
        }
      ]
    },
    {
      "cell_type": "code",
      "metadata": {
        "id": "kqwQ_sRjCYRK",
        "colab_type": "code",
        "outputId": "7090028c-a056-4b93-a247-90117ca74dd4",
        "colab": {
          "base_uri": "https://localhost:8080/",
          "height": 54
        }
      },
      "source": [
        "old = list(df11['avg_temp'])\n",
        "print(old)"
      ],
      "execution_count": 0,
      "outputs": [
        {
          "output_type": "stream",
          "text": [
            "[26.35, 27.45, 25.82, 26.62, 26.56, 25.73, 27.01, 26.77, 27.09, 26.67, 26.57, 26.1, nan, nan, nan, nan, nan, 25.92, 25.26, 25.45, 25.01, 25.23, 25.78, 25.36, 25.52, 26.15, 26.2, 26.03, 26.68, 26.46, 26.49, 26.65, 26.26, 26.08, 26.37, 25.84, 25.99, 26.18, 26.22, 25.36, 25.85, 25.76, 25.78, 25.89, 26.01, 25.78, 26.13, 25.98, 25.74, 25.99, 26.59, 26.03, 25.96, 25.92, 26.08, 26.07, 26.07, 26.24, 26.37, 26.41, 25.36, 25.64, nan, nan, nan, nan, nan, nan, nan, 27.77, 26.4, 26.72, 26.01, 26.52, 26.21, 26.2, 26.22, 26.34, 26.36, 26.51, 26.42, 26.66, 26.74, 26.15, 26.57, 26.33, 26.25, 25.84, 25.76, 25.96, 26.34, 26.06, 26.13, 26.52, 26.41, 26.32, 26.7, 25.45, 26.03, 26.5, 26.99, 26.55, 26.94, 27.07, 26.9, 26.83, 27.3, 26.28, 26.62, 26.24, 26.19, 26.36, 26.07, 26.05, 26.09, 26.6, 26.89, 26.44, 26.56, 27.01, 26.5, 25.6, 26.48, 26.39, 26.65, 27.05, 26.43, 26.44, 26.63, 26.66, 26.55, 26.08, 26.6, 26.76, 26.58, 26.95, 26.9, 26.29, 26.35, 26.1, 26.36, 26.24, 26.46, 26.61, 26.54, 27.23, 26.71, 26.69, 26.47, 25.99, 26.65, 26.8, 27.13, 27.11, 26.06, 27.03, 27.08, 27.14, 26.71, 26.68, 26.28, 26.61, 27.28, 26.72, 26.77, 26.29, 26.64, 27.1, 26.51, 26.82, 26.89, 26.46, 26.54, 27.26, 26.71, 26.57, 26.88, 26.72, 27.02, 26.23, 26.79, 27.17, 26.77, 26.97, 27.22, 26.89, 26.74, 26.21, 26.53, 27.13, 26.96, 28.06, 27.61, 26.76, 26.88, 26.9, 26.82, 27.46, 26.74, 27.2, 27.06, 26.45, 27.48, 27.21, 27.44, 27.2, 27.72, 27.4, 27.63, 26.83, 27.28, 27.51, 27.05, 28.1, 28.02, 27.29, 27.03, 27.61]\n"
          ],
          "name": "stdout"
        }
      ]
    },
    {
      "cell_type": "code",
      "metadata": {
        "id": "Hwg0OMzrEtit",
        "colab_type": "code",
        "colab": {}
      },
      "source": [
        "for a in range(len(old)):\n",
        "  print(type(old[a]))"
      ],
      "execution_count": 0,
      "outputs": []
    },
    {
      "cell_type": "code",
      "metadata": {
        "id": "-WhPLe578eQs",
        "colab_type": "code",
        "colab": {}
      },
      "source": [
        "new = np.ones(len(list(df11['avg_temp'])))\n",
        "for a in range(len(old)):\n",
        "  if math.isnan(old[a]):\n",
        "    new[a] = median_value\n",
        "  else:\n",
        "    new[a] = old[a]"
      ],
      "execution_count": 0,
      "outputs": []
    },
    {
      "cell_type": "code",
      "metadata": {
        "id": "-YRlfVKjBasU",
        "colab_type": "code",
        "outputId": "b2da66ed-3591-4d99-836f-f493226969dd",
        "colab": {
          "base_uri": "https://localhost:8080/",
          "height": 386
        }
      },
      "source": [
        "print(new)"
      ],
      "execution_count": 0,
      "outputs": [
        {
          "output_type": "stream",
          "text": [
            "[26.35  27.45  25.82  26.62  26.56  25.73  27.01  26.77  27.09  26.67\n",
            " 26.57  26.1   26.535 26.535 26.535 26.535 26.535 25.92  25.26  25.45\n",
            " 25.01  25.23  25.78  25.36  25.52  26.15  26.2   26.03  26.68  26.46\n",
            " 26.49  26.65  26.26  26.08  26.37  25.84  25.99  26.18  26.22  25.36\n",
            " 25.85  25.76  25.78  25.89  26.01  25.78  26.13  25.98  25.74  25.99\n",
            " 26.59  26.03  25.96  25.92  26.08  26.07  26.07  26.24  26.37  26.41\n",
            " 25.36  25.64  26.535 26.535 26.535 26.535 26.535 26.535 26.535 27.77\n",
            " 26.4   26.72  26.01  26.52  26.21  26.2   26.22  26.34  26.36  26.51\n",
            " 26.42  26.66  26.74  26.15  26.57  26.33  26.25  25.84  25.76  25.96\n",
            " 26.34  26.06  26.13  26.52  26.41  26.32  26.7   25.45  26.03  26.5\n",
            " 26.99  26.55  26.94  27.07  26.9   26.83  27.3   26.28  26.62  26.24\n",
            " 26.19  26.36  26.07  26.05  26.09  26.6   26.89  26.44  26.56  27.01\n",
            " 26.5   25.6   26.48  26.39  26.65  27.05  26.43  26.44  26.63  26.66\n",
            " 26.55  26.08  26.6   26.76  26.58  26.95  26.9   26.29  26.35  26.1\n",
            " 26.36  26.24  26.46  26.61  26.54  27.23  26.71  26.69  26.47  25.99\n",
            " 26.65  26.8   27.13  27.11  26.06  27.03  27.08  27.14  26.71  26.68\n",
            " 26.28  26.61  27.28  26.72  26.77  26.29  26.64  27.1   26.51  26.82\n",
            " 26.89  26.46  26.54  27.26  26.71  26.57  26.88  26.72  27.02  26.23\n",
            " 26.79  27.17  26.77  26.97  27.22  26.89  26.74  26.21  26.53  27.13\n",
            " 26.96  28.06  27.61  26.76  26.88  26.9   26.82  27.46  26.74  27.2\n",
            " 27.06  26.45  27.48  27.21  27.44  27.2   27.72  27.4   27.63  26.83\n",
            " 27.28  27.51  27.05  28.1   28.02  27.29  27.03  27.61 ]\n"
          ],
          "name": "stdout"
        }
      ]
    },
    {
      "cell_type": "code",
      "metadata": {
        "id": "ZL5y9jD6ABTk",
        "colab_type": "code",
        "colab": {}
      },
      "source": [
        "df11['avg_temp'] = new"
      ],
      "execution_count": 0,
      "outputs": []
    },
    {
      "cell_type": "code",
      "metadata": {
        "id": "caZVu25ZWsm5",
        "colab_type": "code",
        "colab": {}
      },
      "source": [
        "df22 = df2[df2['year']>=1796]\n",
        "df22 = df22[df22['year']<2014]"
      ],
      "execution_count": 0,
      "outputs": []
    },
    {
      "cell_type": "code",
      "metadata": {
        "id": "Nhn1aMwlWkON",
        "colab_type": "code",
        "outputId": "15d67819-e937-4e81-838c-29b6747f7cac",
        "colab": {
          "base_uri": "https://localhost:8080/",
          "height": 50
        }
      },
      "source": [
        "print(df11.shape)\n",
        "print(df22.shape)"
      ],
      "execution_count": 0,
      "outputs": [
        {
          "output_type": "stream",
          "text": [
            "(218, 4)\n",
            "(218, 2)\n"
          ],
          "name": "stdout"
        }
      ]
    },
    {
      "cell_type": "code",
      "metadata": {
        "id": "oXTox8veVDmm",
        "colab_type": "code",
        "colab": {}
      },
      "source": [
        "def moving_avgg(df):\n",
        "  li = list(df['avg_temp'])\n",
        "  new_li = []\n",
        "  for i in range(len(li)-1):\n",
        "    avg = (li[i]+li[i+1])/2\n",
        "    new_li.append(avg)\n",
        "  return new_li"
      ],
      "execution_count": 0,
      "outputs": []
    },
    {
      "cell_type": "code",
      "metadata": {
        "id": "xZ0OsWwb74Xp",
        "colab_type": "code",
        "outputId": "6f535aab-93dd-4f45-b8c3-d14dc479f767",
        "colab": {
          "base_uri": "https://localhost:8080/",
          "height": 195
        }
      },
      "source": [
        "df11.head()"
      ],
      "execution_count": 0,
      "outputs": [
        {
          "output_type": "execute_result",
          "data": {
            "text/html": [
              "<div>\n",
              "<style scoped>\n",
              "    .dataframe tbody tr th:only-of-type {\n",
              "        vertical-align: middle;\n",
              "    }\n",
              "\n",
              "    .dataframe tbody tr th {\n",
              "        vertical-align: top;\n",
              "    }\n",
              "\n",
              "    .dataframe thead th {\n",
              "        text-align: right;\n",
              "    }\n",
              "</style>\n",
              "<table border=\"1\" class=\"dataframe\">\n",
              "  <thead>\n",
              "    <tr style=\"text-align: right;\">\n",
              "      <th></th>\n",
              "      <th>year</th>\n",
              "      <th>city</th>\n",
              "      <th>country</th>\n",
              "      <th>avg_temp</th>\n",
              "    </tr>\n",
              "  </thead>\n",
              "  <tbody>\n",
              "    <tr>\n",
              "      <th>1273</th>\n",
              "      <td>1796</td>\n",
              "      <td>Ahmadabad</td>\n",
              "      <td>India</td>\n",
              "      <td>26.35</td>\n",
              "    </tr>\n",
              "    <tr>\n",
              "      <th>1274</th>\n",
              "      <td>1797</td>\n",
              "      <td>Ahmadabad</td>\n",
              "      <td>India</td>\n",
              "      <td>27.45</td>\n",
              "    </tr>\n",
              "    <tr>\n",
              "      <th>1275</th>\n",
              "      <td>1798</td>\n",
              "      <td>Ahmadabad</td>\n",
              "      <td>India</td>\n",
              "      <td>25.82</td>\n",
              "    </tr>\n",
              "    <tr>\n",
              "      <th>1276</th>\n",
              "      <td>1799</td>\n",
              "      <td>Ahmadabad</td>\n",
              "      <td>India</td>\n",
              "      <td>26.62</td>\n",
              "    </tr>\n",
              "    <tr>\n",
              "      <th>1277</th>\n",
              "      <td>1800</td>\n",
              "      <td>Ahmadabad</td>\n",
              "      <td>India</td>\n",
              "      <td>26.56</td>\n",
              "    </tr>\n",
              "  </tbody>\n",
              "</table>\n",
              "</div>"
            ],
            "text/plain": [
              "      year       city country  avg_temp\n",
              "1273  1796  Ahmadabad   India     26.35\n",
              "1274  1797  Ahmadabad   India     27.45\n",
              "1275  1798  Ahmadabad   India     25.82\n",
              "1276  1799  Ahmadabad   India     26.62\n",
              "1277  1800  Ahmadabad   India     26.56"
            ]
          },
          "metadata": {
            "tags": []
          },
          "execution_count": 238
        }
      ]
    },
    {
      "cell_type": "code",
      "metadata": {
        "id": "wo1fko--6a3j",
        "colab_type": "code",
        "colab": {}
      },
      "source": [
        "y1 = moving_avgg(df11)\n",
        "y2 = moving_avgg(df22)"
      ],
      "execution_count": 0,
      "outputs": []
    },
    {
      "cell_type": "code",
      "metadata": {
        "id": "XPRcnfZdQSCD",
        "colab_type": "code",
        "colab": {}
      },
      "source": [
        "year11 = list(df11['year'])[1:]\n",
        "year22 = list(df22['year'])[1:]\n",
        "major_ticks = np.arange(year11[0], year11[-1], 10)\n",
        "minor_ticks = np.arange(year22[0], year22[-1], 5)"
      ],
      "execution_count": 0,
      "outputs": []
    },
    {
      "cell_type": "code",
      "metadata": {
        "id": "uRrxaeeyqU2Q",
        "colab_type": "code",
        "colab": {}
      },
      "source": [
        "title_font_dict = {'fontsize': 20,\n",
        " 'fontweight' : 15}"
      ],
      "execution_count": 0,
      "outputs": []
    },
    {
      "cell_type": "code",
      "metadata": {
        "id": "GSC0dvd46-Ex",
        "colab_type": "code",
        "outputId": "c3d45c11-3b31-48cc-c7fc-42e9afc30f37",
        "colab": {
          "base_uri": "https://localhost:8080/",
          "height": 571
        }
      },
      "source": [
        "'''fig = plt.figure()\n",
        "ax = fig.add_subplot(1, 1, 1)\n",
        "ax.set_xticks(major_ticks)\n",
        "ax.set_xticks(minor_ticks, minor=True)\n",
        "ax.set_yticks(major_ticks)\n",
        "ax.set_yticks(minor_ticks, minor=True)\n",
        "ax.grid(which='both')\n",
        "ax.grid(which='minor', alpha=0.2)\n",
        "ax.grid(which='major', alpha=0.5)'''\n",
        "plt.figure(num=None, figsize=(10, 8), dpi=80, facecolor='w', edgecolor='k')\n",
        "plt.title('Weather Trends', fontdict=title_font_dict)\n",
        "plt.grid(color='k', linestyle='-', linewidth=0.1)\n",
        "plt.plot(year11, y1)\n",
        "plt.plot(year22, y2)\n",
        "plt.xlabel('year')\n",
        "plt.ylabel('moving_avg_temp')\n",
        "plt.legend(('Ahmadabad','Global'))\n",
        "plt.savefig('TempComparison.jpeg')\n",
        "plt.show()"
      ],
      "execution_count": 0,
      "outputs": [
        {
          "output_type": "display_data",
          "data": {
            "image/png": "[encoded data removed]",
            "text/plain": [
              "<Figure size 800x640 with 1 Axes>"
            ]
          },
          "metadata": {
            "tags": []
          }
        }
      ]
    },
    {
      "cell_type": "code",
      "metadata": {
        "id": "L992lAG47voT",
        "colab_type": "code",
        "colab": {}
      },
      "source": [
        ""
      ],
      "execution_count": 0,
      "outputs": []
    }
  ]
}